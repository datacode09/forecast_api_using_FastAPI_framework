{
 "cells": [
  {
   "cell_type": "code",
   "execution_count": 1,
   "id": "34d2a286",
   "metadata": {},
   "outputs": [],
   "source": [
    "# load libraries\n",
    "import pandas as pd\n",
    "import numpy as np\n",
    "import requests"
   ]
  },
  {
   "cell_type": "code",
   "execution_count": 2,
   "id": "2ba356bb",
   "metadata": {},
   "outputs": [],
   "source": [
    "# load data\n",
    "df = pd.read_csv('data/sample_data.csv')"
   ]
  },
  {
   "cell_type": "code",
   "execution_count": 3,
   "id": "a85b38e0",
   "metadata": {},
   "outputs": [],
   "source": [
    "# extract final values\n",
    "val = df['7'][-4:].values\n",
    "\n",
    "# separating the values\n",
    "val0 = float(val[0])\n",
    "val1 = float(val[1])\n",
    "val2 = float(val[2])\n",
    "val3 = float(val[3])"
   ]
  },
  {
   "cell_type": "code",
   "execution_count": 4,
   "id": "5d08d989",
   "metadata": {},
   "outputs": [],
   "source": [
    "# make a request schema\n",
    "req =  {\n",
    "  \"v1\": val0,\n",
    "  \"v2\": val1,\n",
    "  \"v3\": val2,\n",
    "  \"v4\": val3,   \n",
    "    }\n",
    "\n",
    "# send request\n",
    "r = requests.post(\"http://127.0.0.1:8000/ping\" , json=req)"
   ]
  },
  {
   "cell_type": "code",
   "execution_count": 5,
   "id": "ac6307be",
   "metadata": {},
   "outputs": [
    {
     "data": {
      "text/plain": [
       "200"
      ]
     },
     "execution_count": 5,
     "metadata": {},
     "output_type": "execute_result"
    }
   ],
   "source": [
    "# check the status code\n",
    "r.status_code # should be 200"
   ]
  },
  {
   "cell_type": "code",
   "execution_count": 6,
   "id": "93050827",
   "metadata": {},
   "outputs": [
    {
     "data": {
      "text/plain": [
       "'{\"message\":[0.47582322359085083,0.38960736989974976,0.420690655708313,0.3334835469722748,0.35800257325172424,0.2584075927734375,0.17832770943641663,0.1548907607793808,0.1033092811703682,0.10132461786270142,0.12405455112457275,0.0933622345328331,0.15681517124176025,0.134254589676857,0.20380458235740662,0.19567717611789703,0.293911874294281,0.4142964482307434,0.509036660194397,0.5964368581771851,0.6762831807136536,0.7115064859390259,0.824339747428894,0.904467761516571]}'"
      ]
     },
     "execution_count": 6,
     "metadata": {},
     "output_type": "execute_result"
    }
   ],
   "source": [
    "# check forecast\n",
    "forecast = r.text\n",
    "forecast"
   ]
  }
 ],
 "metadata": {
  "kernelspec": {
   "display_name": "Python 3 (ipykernel)",
   "language": "python",
   "name": "python3"
  },
  "language_info": {
   "codemirror_mode": {
    "name": "ipython",
    "version": 3
   },
   "file_extension": ".py",
   "mimetype": "text/x-python",
   "name": "python",
   "nbconvert_exporter": "python",
   "pygments_lexer": "ipython3",
   "version": "3.9.6"
  }
 },
 "nbformat": 4,
 "nbformat_minor": 5
}
